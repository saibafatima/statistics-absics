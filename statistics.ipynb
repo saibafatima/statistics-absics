{
 "cells": [
  {
   "cell_type": "code",
   "execution_count": 1,
   "id": "b93a8058-e874-47f6-91bb-70c268a92257",
   "metadata": {},
   "outputs": [
    {
     "ename": "SyntaxError",
     "evalue": "invalid syntax (3280209017.py, line 3)",
     "output_type": "error",
     "traceback": [
      "\u001b[0;36m  Cell \u001b[0;32mIn[1], line 3\u001b[0;36m\u001b[0m\n\u001b[0;31m    Statistics is a branch of mathematics that deals with the collection, analysis, interpretation, presentation, and organization of data. It involves the use of mathematical techniques to summarize and describe data, as well as to draw conclusions and make informed decisions based on data.\u001b[0m\n\u001b[0m                    ^\u001b[0m\n\u001b[0;31mSyntaxError\u001b[0m\u001b[0;31m:\u001b[0m invalid syntax\n"
     ]
    }
   ],
   "source": [
    "Q1. What is Statistics?\n",
    "\n",
    "Statistics is a branch of mathematics that deals with the collection, analysis, interpretation, presentation, and organization of data. It involves the use of mathematical techniques to summarize and describe data, as well as to draw conclusions and make informed decisions based on data.\n",
    "\n"
   ]
  },
  {
   "cell_type": "code",
   "execution_count": 2,
   "id": "bd37c57a-9a16-42bd-bca0-73c99d4ff020",
   "metadata": {},
   "outputs": [
    {
     "ename": "SyntaxError",
     "evalue": "invalid syntax (4072425713.py, line 1)",
     "output_type": "error",
     "traceback": [
      "\u001b[0;36m  Cell \u001b[0;32mIn[2], line 1\u001b[0;36m\u001b[0m\n\u001b[0;31m    Q2. Define the different types of statistics and give an example of when each type might be used.\u001b[0m\n\u001b[0m               ^\u001b[0m\n\u001b[0;31mSyntaxError\u001b[0m\u001b[0;31m:\u001b[0m invalid syntax\n"
     ]
    }
   ],
   "source": [
    "Q2. Define the different types of statistics and give an example of when each type might be used.\n",
    "\n",
    "There are two main types of statistics: Descriptive Statistics and Inferential Statistics.\n",
    "\n",
    "Descriptive Statistics: This type of statistics involves summarizing and describing the basic features of a dataset, such as the mean, median, mode, and standard deviation. It is used to provide a concise summary of the data.\n",
    "Example: A company wants to know the average salary of its employees. Descriptive statistics would be used to calculate the mean salary.\n",
    "\n",
    "Inferential Statistics: This type of statistics involves making conclusions or inferences about a population based on a sample of data. It is used to make predictions or generalizations about a larger population.\n",
    "Example: A researcher wants to know if a new medication is effective in reducing blood pressure. Inferential statistics would be used to analyze the data from a sample of patients and make conclusions about the effectiveness of the medication for the entire population.k"
   ]
  },
  {
   "cell_type": "code",
   "execution_count": 3,
   "id": "3c8579ed-4f36-4e5d-ae1b-6f6a8115a5f1",
   "metadata": {},
   "outputs": [
    {
     "ename": "SyntaxError",
     "evalue": "invalid syntax (3034759639.py, line 1)",
     "output_type": "error",
     "traceback": [
      "\u001b[0;36m  Cell \u001b[0;32mIn[3], line 1\u001b[0;36m\u001b[0m\n\u001b[0;31m    Q3. What are the different types of data and how do they differ from each other? Provide an example of each type of data.\u001b[0m\n\u001b[0m             ^\u001b[0m\n\u001b[0;31mSyntaxError\u001b[0m\u001b[0;31m:\u001b[0m invalid syntax\n"
     ]
    }
   ],
   "source": [
    "Q3. What are the different types of data and how do they differ from each other? Provide an example of each type of data.\n",
    "\n",
    "There are two main types of data: Qualitative Data and Quantitative Data.\n",
    "\n",
    "Qualitative Data: This type of data is non-numerical and describes characteristics or attributes of something. It is often categorical and cannot be measured or compared numerically.\n",
    "Example: The color of a car (red, blue, green, etc.)\n",
    "\n",
    "Quantitative Data: This type of data is numerical and can be measured or compared numerically. It can be discrete (countable) or continuous (measurable).\n",
    "Example: The height of a person (175 cm, 180 cm, etc.)"
   ]
  },
  {
   "cell_type": "code",
   "execution_count": 4,
   "id": "887360ce-9af1-4205-b25c-483abb0cd8a3",
   "metadata": {},
   "outputs": [
    {
     "ename": "SyntaxError",
     "evalue": "invalid syntax (270458295.py, line 1)",
     "output_type": "error",
     "traceback": [
      "\u001b[0;36m  Cell \u001b[0;32mIn[4], line 1\u001b[0;36m\u001b[0m\n\u001b[0;31m    Q4. Categorise the following datasets with respect to quantitative and qualitative data types:\u001b[0m\n\u001b[0m                   ^\u001b[0m\n\u001b[0;31mSyntaxError\u001b[0m\u001b[0;31m:\u001b[0m invalid syntax\n"
     ]
    }
   ],
   "source": [
    "Q4. Categorise the following datasets with respect to quantitative and qualitative data types:\n",
    "(i) Grading in exam: A+, A, B+, B, C+, C, D, E\n",
    "(ii) Colour of mangoes: yellow, green, orange, red\n",
    "(iii) Height data of a class: [178.9, 179, 179.5, 176, 177.2, 178.3, 175.8,...]\n",
    "(iv) Number of mangoes exported by a farm: [500, 600, 478, 672, ...]\n",
    "\n",
    "\n",
    "\n",
    "(i) Grading in exam: A+, A, B+, B, C+, C, D, E\n",
    "\n",
    "This dataset is Qualitative because it consists of categorical labels (A+, A, B+, etc.) that describe the grade, but do not have numerical values.\n",
    "(ii) Colour of mangoes: yellow, green, orange, red\n",
    "\n",
    "This dataset is Qualitative because it consists of categorical labels (yellow, green, orange, red) that describe the color of the mangoes, but do not have numerical values.\n",
    "(iii) Height data of a class: [178.9, 179, 179.5, 176, 177.2, 178.3, 175.8,...]\n",
    "\n",
    "This dataset is Quantitative because it consists of numerical values (heights in cm) that can be measured and compared.\n",
    "(iv) Number of mangoes exported by a farm: [500, 600, 478, 672,...]\n",
    "\n",
    "This dataset is Quantitative because it consists of numerical values (number of mangoes) that can be measured and compared."
   ]
  },
  {
   "cell_type": "code",
   "execution_count": null,
   "id": "68a9f2d0-2a6f-49d7-a536-48c391e3fd0f",
   "metadata": {},
   "outputs": [],
   "source": []
  }
 ],
 "metadata": {
  "kernelspec": {
   "display_name": "Python 3 (ipykernel)",
   "language": "python",
   "name": "python3"
  },
  "language_info": {
   "codemirror_mode": {
    "name": "ipython",
    "version": 3
   },
   "file_extension": ".py",
   "mimetype": "text/x-python",
   "name": "python",
   "nbconvert_exporter": "python",
   "pygments_lexer": "ipython3",
   "version": "3.10.8"
  }
 },
 "nbformat": 4,
 "nbformat_minor": 5
}
